{
 "cells": [
  {
   "cell_type": "code",
   "execution_count": 1,
   "id": "d880ea22",
   "metadata": {},
   "outputs": [],
   "source": [
    "# Initial configuration\n",
    "# import numpy as np\n",
    "import pandas as pd\n",
    "\n",
    "import warnings\n",
    "warnings.filterwarnings('ignore')\n",
    "from sklearn.model_selection import train_test_split \n",
    "\n",
    "\n"
   ]
  },
  {
   "cell_type": "code",
   "execution_count": 2,
   "id": "c5337d09",
   "metadata": {},
   "outputs": [],
   "source": [
    "# Load data\n",
    "df = pd.read_csv('./data/UCI_Credit_Card.csv')\n",
    "\n",
    "df.set_index('ID' , inplace = True)\n",
    "df.rename(columns={'PAY_0':'PAY_1'}, inplace=True)"
   ]
  },
  {
   "cell_type": "code",
   "execution_count": 3,
   "id": "4a1372ca",
   "metadata": {},
   "outputs": [],
   "source": [
    "# Separate features to target, train to test\n",
    "features = df.drop('default.payment.next.month' ,axis = 1)\n",
    "target = df['default.payment.next.month']\n",
    "x_train,x_test,y_train,y_test = train_test_split(features,target,test_size = 0.2)"
   ]
  },
  {
   "cell_type": "code",
   "execution_count": 4,
   "id": "1243dc27",
   "metadata": {},
   "outputs": [],
   "source": [
    "# Find the best algorithm to the problem (in a very brute and careless way)\n",
    "\n",
    "from sklearn.metrics import accuracy_score, log_loss\n",
    "from sklearn.neighbors import KNeighborsClassifier\n",
    "from sklearn.svm import SVC\n",
    "from sklearn.tree import DecisionTreeClassifier\n",
    "from sklearn.ensemble import ExtraTreesClassifier, RandomForestClassifier\n",
    "from sklearn.linear_model import LogisticRegression\n",
    "from sklearn.pipeline import Pipeline\n",
    "from sklearn.metrics import roc_auc_score\n",
    "from sklearn.base import BaseEstimator\n",
    "\n",
    "from dataclasses import dataclass,field\n",
    "import typing\n",
    "\n",
    "@dataclass\n",
    "class Modelshowcaser:\n",
    "    model : BaseEstimator\n",
    "    acc: float\n",
    "    log_loss: float\n",
    "    @classmethod\n",
    "    def train_and_evaluate(cls, model: BaseEstimator, x_train, y_train, x_test, y_test):\n",
    "        model.fit(x_train, y_train)\n",
    "        train_predictions = model.predict(x_test)\n",
    "        acc = accuracy_score(y_test, train_predictions)\n",
    "        train_predictions = model.predict_proba(x_test)\n",
    "        ll = log_loss(y_test, train_predictions)\n",
    "        return cls(model, acc, ll)\n",
    "\n",
    "@dataclass\n",
    "class ShowCase:\n",
    "    models : typing.List[Modelshowcaser] = field(default_factory=list)\n",
    "    @classmethod\n",
    "    def train_and_evaluate(cls, models: typing.List[BaseEstimator], x_train, y_train, x_test, y_test):\n",
    "        _models = list()\n",
    "        for m in models:\n",
    "            print(f\"Training {m.__class__.__name__}\")\n",
    "            m_c = Modelshowcaser.train_and_evaluate(m, x_train, y_train, x_test, y_test)\n",
    "            _models.append(m_c)\n",
    "        return cls(models=_models)\n",
    "    def sort_by_acc(self):\n",
    "        self.models = sorted([m for m in self.models], key=lambda x: x.acc, reverse=True)\n",
    "        return self\n",
    "    def sort_by_log_loss(self) -> None:\n",
    "        self.models = sorted([m for m in self.models], key=lambda x: x.log_loss, reverse=False)\n",
    "        return self\n",
    "\n",
    "\n",
    "#"
   ]
  },
  {
   "cell_type": "code",
   "execution_count": 5,
   "id": "1b7af721",
   "metadata": {},
   "outputs": [
    {
     "name": "stdout",
     "output_type": "stream",
     "text": [
      "Training ExtraTreesClassifier\n",
      "Training KNeighborsClassifier\n",
      "Training RandomForestClassifier\n",
      "Training DecisionTreeClassifier\n"
     ]
    }
   ],
   "source": [
    "classifiers = [\n",
    "    ExtraTreesClassifier(n_estimators=10),\n",
    "    KNeighborsClassifier(3),\n",
    "    RandomForestClassifier(),\n",
    "#     SVC(kernel=\"rbf\", C=0.025, probability=True),\n",
    "    DecisionTreeClassifier()\n",
    "]\n",
    "\n",
    "c = ShowCase.train_and_evaluate(classifiers,  x_train, y_train, x_test, y_test)"
   ]
  },
  {
   "cell_type": "code",
   "execution_count": 6,
   "id": "be95f643",
   "metadata": {},
   "outputs": [
    {
     "data": {
      "text/plain": [
       "showcase(models=[Modelshowcaser(model=RandomForestClassifier(), acc=0.8183333333333334, log_loss=0.45464423030780254), Modelshowcaser(model=ExtraTreesClassifier(n_estimators=10), acc=0.8045, log_loss=1.2203769109276406), Modelshowcaser(model=KNeighborsClassifier(n_neighbors=3), acc=0.7371666666666666, log_loss=3.880229955538274), Modelshowcaser(model=DecisionTreeClassifier(), acc=0.7233333333333334, log_loss=9.556277442069621)])"
      ]
     },
     "execution_count": 6,
     "metadata": {},
     "output_type": "execute_result"
    }
   ],
   "source": [
    "c.sort_by_log_loss()"
   ]
  },
  {
   "cell_type": "code",
   "execution_count": 7,
   "id": "7f293084",
   "metadata": {},
   "outputs": [
    {
     "data": {
      "text/plain": [
       "showcase(models=[Modelshowcaser(model=RandomForestClassifier(), acc=0.8183333333333334, log_loss=0.45464423030780254), Modelshowcaser(model=ExtraTreesClassifier(n_estimators=10), acc=0.8045, log_loss=1.2203769109276406), Modelshowcaser(model=KNeighborsClassifier(n_neighbors=3), acc=0.7371666666666666, log_loss=3.880229955538274), Modelshowcaser(model=DecisionTreeClassifier(), acc=0.7233333333333334, log_loss=9.556277442069621)])"
      ]
     },
     "execution_count": 7,
     "metadata": {},
     "output_type": "execute_result"
    }
   ],
   "source": [
    "c.sort_by_acc()"
   ]
  },
  {
   "cell_type": "code",
   "execution_count": 8,
   "id": "43d97bbe",
   "metadata": {},
   "outputs": [],
   "source": [
    "winner = c.models[0].model"
   ]
  },
  {
   "cell_type": "code",
   "execution_count": null,
   "id": "30c0fb91",
   "metadata": {},
   "outputs": [],
   "source": [
    "winner"
   ]
  },
  {
   "cell_type": "code",
   "execution_count": 13,
   "id": "29bce608",
   "metadata": {},
   "outputs": [
    {
     "data": {
      "text/plain": [
       "['../model.joblib']"
      ]
     },
     "execution_count": 13,
     "metadata": {},
     "output_type": "execute_result"
    }
   ],
   "source": [
    "# save winner\n",
    "import joblib\n",
    "import os\n",
    "model_name = 'model.joblib'\n",
    "joblib.dump(winner, model_name)\n"
   ]
  },
  {
   "cell_type": "code",
   "execution_count": null,
   "id": "cdc0b962",
   "metadata": {},
   "outputs": [],
   "source": []
  }
 ],
 "metadata": {
  "kernelspec": {
   "display_name": "Python 3 (ipykernel)",
   "language": "python",
   "name": "python3"
  },
  "language_info": {
   "codemirror_mode": {
    "name": "ipython",
    "version": 3
   },
   "file_extension": ".py",
   "mimetype": "text/x-python",
   "name": "python",
   "nbconvert_exporter": "python",
   "pygments_lexer": "ipython3",
   "version": "3.8.10"
  }
 },
 "nbformat": 4,
 "nbformat_minor": 5
}
